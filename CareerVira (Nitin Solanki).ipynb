{
 "cells": [
  {
   "cell_type": "code",
   "execution_count": 81,
   "metadata": {},
   "outputs": [],
   "source": [
    "features = [[1, 2], [1, 4], [1, 0], [4, 2], [4, 4], [4, 0]]\n",
    "k = 2\n"
   ]
  },
  {
   "cell_type": "code",
   "execution_count": 82,
   "metadata": {},
   "outputs": [],
   "source": [
    "# √[(x2 – x1)2 + (y2 – y1)2]\n"
   ]
  },
  {
   "cell_type": "code",
   "execution_count": 83,
   "metadata": {},
   "outputs": [],
   "source": [
    "import math"
   ]
  },
  {
   "cell_type": "code",
   "execution_count": 84,
   "metadata": {},
   "outputs": [],
   "source": [
    "def cal_distance(centroid, features):\n",
    "    list_of_distances = []\n",
    "    c_x = centroid[0]\n",
    "    c_y = centroid[1]\n",
    "    for feature in features:\n",
    "        x1 = feature[0]\n",
    "        y1 = feature[1]\n",
    "        try:\n",
    "            dist = math.sqrt(math.pow((c_x - x1), 2) + math.pow((c_y - y1), 2))\n",
    "        except ZeroDivisionError:\n",
    "            dist = 0.0\n",
    "        list_of_distances.append(dist)\n",
    "    return list_of_distances"
   ]
  },
  {
   "cell_type": "code",
   "execution_count": 85,
   "metadata": {},
   "outputs": [],
   "source": [
    "def get_new_centroid(l_indexes):\n",
    "    sum_x = 0\n",
    "    sum_y = 0\n",
    "    for i in l_indexes:\n",
    "        sum_x += features[i][0]\n",
    "        sum_y += features[i][1]\n",
    "    mean_x = sum_x // len(l_indexes)\n",
    "    mean_y = sum_y // len(l_indexes)\n",
    "    return (mean_x, mean_y)"
   ]
  },
  {
   "cell_type": "code",
   "execution_count": 86,
   "metadata": {},
   "outputs": [],
   "source": [
    "def get_index_for_new_data_points(c1, c2):\n",
    "    L1 = cal_distance(c1, features) # 1, 3, 4, 5, 5\n",
    "    L2 = cal_distance(c2, features) # 0, 1, 3, 3, 3\n",
    "\n",
    "    new_L = list(zip(L1, L2))\n",
    "\n",
    "    cluster1_index = []\n",
    "    cluster2_index = []\n",
    "    for idx, i in enumerate(new_L):\n",
    "        if i[0] <= i[1]:\n",
    "            cluster1_index.append(idx)\n",
    "        else:\n",
    "            cluster2_index.append(idx)\n",
    "    return cluster1_index, cluster2_index"
   ]
  },
  {
   "cell_type": "code",
   "execution_count": 87,
   "metadata": {
    "scrolled": true
   },
   "outputs": [],
   "source": [
    "# cluster1_index, cluster2_index = get_index_for_new_data_points(c1, c2)\n",
    "# print(cluster1_index, cluster2_index)\n",
    "# c1 = get_new_centroid(cluster1_index)\n",
    "# c2 = get_new_centroid(cluster2_index)\n",
    "# c1, c2"
   ]
  },
  {
   "cell_type": "code",
   "execution_count": 92,
   "metadata": {},
   "outputs": [
    {
     "name": "stdout",
     "output_type": "stream",
     "text": [
      "Cluster 1 indexes [0, 2]\n",
      "Cluster 1 data points [[1, 2], [1, 0]]\n",
      "\n",
      "Cluster 2 indexes [1, 3, 4, 5]\n",
      "Cluster 2 data points [[1, 4], [4, 2], [4, 4], [4, 0]]\n"
     ]
    }
   ],
   "source": [
    "prev_cluster1_index = []\n",
    "prev_cluster2_index = []\n",
    "\n",
    "c1 = [1, 1]\n",
    "c2 = [2, 2]\n",
    "\n",
    "while True:\n",
    "    cluster1_index, cluster2_index = get_index_for_new_data_points(c1, c2)\n",
    "    if prev_cluster1_index and prev_cluster2_index:\n",
    "        if prev_cluster1_index == cluster1_index and prev_cluster2_index == cluster2_index:\n",
    "            break\n",
    "    prev_cluster1_index = cluster1_index\n",
    "    prev_cluster2_index = cluster2_index\n",
    "    c1 = get_new_centroid(cluster1_index)\n",
    "    c2 = get_new_centroid(cluster2_index)\n",
    "    \n",
    "print(\"Cluster 1 indexes\", cluster1_index)\n",
    "print(\"Cluster 1 data points\", [features[x] for x in cluster1_index])\n",
    "print()\n",
    "print(\"Cluster 2 indexes\", cluster2_index)\n",
    "print(\"Cluster 2 data points\", [features[x] for x in cluster2_index])\n"
   ]
  },
  {
   "cell_type": "code",
   "execution_count": null,
   "metadata": {},
   "outputs": [],
   "source": []
  }
 ],
 "metadata": {
  "kernelspec": {
   "display_name": "Python 3",
   "language": "python",
   "name": "python3"
  },
  "language_info": {
   "codemirror_mode": {
    "name": "ipython",
    "version": 3
   },
   "file_extension": ".py",
   "mimetype": "text/x-python",
   "name": "python",
   "nbconvert_exporter": "python",
   "pygments_lexer": "ipython3",
   "version": "3.7.9"
  },
  "varInspector": {
   "cols": {
    "lenName": 16,
    "lenType": 16,
    "lenVar": 40
   },
   "kernels_config": {
    "python": {
     "delete_cmd_postfix": "",
     "delete_cmd_prefix": "del ",
     "library": "var_list.py",
     "varRefreshCmd": "print(var_dic_list())"
    },
    "r": {
     "delete_cmd_postfix": ") ",
     "delete_cmd_prefix": "rm(",
     "library": "var_list.r",
     "varRefreshCmd": "cat(var_dic_list()) "
    }
   },
   "types_to_exclude": [
    "module",
    "function",
    "builtin_function_or_method",
    "instance",
    "_Feature"
   ],
   "window_display": false
  }
 },
 "nbformat": 4,
 "nbformat_minor": 4
}
