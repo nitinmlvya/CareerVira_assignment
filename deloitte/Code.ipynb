{
 "cells": [
  {
   "cell_type": "code",
   "execution_count": 2,
   "metadata": {},
   "outputs": [],
   "source": [
    "import pandas as pd\n",
    "from itertools import chain\n",
    "from sklearn import preprocessing\n",
    "from sklearn.feature_extraction.text import CountVectorizer\n",
    "import numpy as np\n",
    "import seaborn as sns\n",
    "import matplotlib.pyplot as plt\n"
   ]
  },
  {
   "cell_type": "code",
   "execution_count": 3,
   "metadata": {},
   "outputs": [
    {
     "data": {
      "text/html": [
       "<div>\n",
       "<style scoped>\n",
       "    .dataframe tbody tr th:only-of-type {\n",
       "        vertical-align: middle;\n",
       "    }\n",
       "\n",
       "    .dataframe tbody tr th {\n",
       "        vertical-align: top;\n",
       "    }\n",
       "\n",
       "    .dataframe thead th {\n",
       "        text-align: right;\n",
       "    }\n",
       "</style>\n",
       "<table border=\"1\" class=\"dataframe\">\n",
       "  <thead>\n",
       "    <tr style=\"text-align: right;\">\n",
       "      <th></th>\n",
       "      <th>id</th>\n",
       "      <th>log_price</th>\n",
       "      <th>property_type</th>\n",
       "      <th>room_type</th>\n",
       "      <th>amenities</th>\n",
       "      <th>accommodates</th>\n",
       "      <th>bathrooms</th>\n",
       "      <th>bed_type</th>\n",
       "      <th>cancellation_policy</th>\n",
       "      <th>cleaning_fee</th>\n",
       "      <th>...</th>\n",
       "      <th>last_review</th>\n",
       "      <th>latitude</th>\n",
       "      <th>longitude</th>\n",
       "      <th>name</th>\n",
       "      <th>neighbourhood</th>\n",
       "      <th>number_of_reviews</th>\n",
       "      <th>review_scores_rating</th>\n",
       "      <th>zipcode</th>\n",
       "      <th>bedrooms</th>\n",
       "      <th>beds</th>\n",
       "    </tr>\n",
       "  </thead>\n",
       "  <tbody>\n",
       "    <tr>\n",
       "      <th>0</th>\n",
       "      <td>6901257</td>\n",
       "      <td>5.010635</td>\n",
       "      <td>Apartment</td>\n",
       "      <td>Entire home/apt</td>\n",
       "      <td>{\"Wireless Internet\",\"Air conditioning\",Kitche...</td>\n",
       "      <td>3</td>\n",
       "      <td>1.0</td>\n",
       "      <td>Real Bed</td>\n",
       "      <td>strict</td>\n",
       "      <td>True</td>\n",
       "      <td>...</td>\n",
       "      <td>2016-07-18</td>\n",
       "      <td>40.696524</td>\n",
       "      <td>-73.991617</td>\n",
       "      <td>Beautiful brownstone 1-bedroom</td>\n",
       "      <td>Brooklyn Heights</td>\n",
       "      <td>2</td>\n",
       "      <td>100.0</td>\n",
       "      <td>11201</td>\n",
       "      <td>1.0</td>\n",
       "      <td>1.0</td>\n",
       "    </tr>\n",
       "    <tr>\n",
       "      <th>1</th>\n",
       "      <td>5578513</td>\n",
       "      <td>4.605170</td>\n",
       "      <td>Apartment</td>\n",
       "      <td>Private room</td>\n",
       "      <td>{Internet,\"Wireless Internet\",\"Air conditionin...</td>\n",
       "      <td>2</td>\n",
       "      <td>1.0</td>\n",
       "      <td>Real Bed</td>\n",
       "      <td>strict</td>\n",
       "      <td>True</td>\n",
       "      <td>...</td>\n",
       "      <td>2016-11-15</td>\n",
       "      <td>40.723883</td>\n",
       "      <td>-73.983880</td>\n",
       "      <td>Large East Village Bedroom To Let!</td>\n",
       "      <td>Alphabet City</td>\n",
       "      <td>82</td>\n",
       "      <td>93.0</td>\n",
       "      <td>10009</td>\n",
       "      <td>1.0</td>\n",
       "      <td>1.0</td>\n",
       "    </tr>\n",
       "    <tr>\n",
       "      <th>2</th>\n",
       "      <td>17423675</td>\n",
       "      <td>5.010635</td>\n",
       "      <td>House</td>\n",
       "      <td>Entire home/apt</td>\n",
       "      <td>{TV,\"Cable TV\",Internet,\"Wireless Internet\",Ki...</td>\n",
       "      <td>4</td>\n",
       "      <td>1.5</td>\n",
       "      <td>Real Bed</td>\n",
       "      <td>strict</td>\n",
       "      <td>True</td>\n",
       "      <td>...</td>\n",
       "      <td>2016-11-18</td>\n",
       "      <td>33.875862</td>\n",
       "      <td>-118.403293</td>\n",
       "      <td>Sand Section Beach Bungalow</td>\n",
       "      <td>Hermosa Beach</td>\n",
       "      <td>29</td>\n",
       "      <td>97.0</td>\n",
       "      <td>90254</td>\n",
       "      <td>2.0</td>\n",
       "      <td>2.0</td>\n",
       "    </tr>\n",
       "    <tr>\n",
       "      <th>3</th>\n",
       "      <td>14066228</td>\n",
       "      <td>4.248495</td>\n",
       "      <td>Apartment</td>\n",
       "      <td>Private room</td>\n",
       "      <td>{TV,Internet,\"Wireless Internet\",Kitchen,\"Free...</td>\n",
       "      <td>2</td>\n",
       "      <td>1.0</td>\n",
       "      <td>Real Bed</td>\n",
       "      <td>flexible</td>\n",
       "      <td>True</td>\n",
       "      <td>...</td>\n",
       "      <td>NaT</td>\n",
       "      <td>33.813228</td>\n",
       "      <td>-118.389434</td>\n",
       "      <td>Beach Pad 1 min walk to the ocean!</td>\n",
       "      <td>Torrance</td>\n",
       "      <td>0</td>\n",
       "      <td>NaN</td>\n",
       "      <td>90277</td>\n",
       "      <td>1.0</td>\n",
       "      <td>1.0</td>\n",
       "    </tr>\n",
       "    <tr>\n",
       "      <th>4</th>\n",
       "      <td>583490</td>\n",
       "      <td>4.955827</td>\n",
       "      <td>Apartment</td>\n",
       "      <td>Entire home/apt</td>\n",
       "      <td>{Kitchen,Heating,\"Smoke detector\",\"Carbon mono...</td>\n",
       "      <td>2</td>\n",
       "      <td>1.0</td>\n",
       "      <td>Real Bed</td>\n",
       "      <td>strict</td>\n",
       "      <td>True</td>\n",
       "      <td>...</td>\n",
       "      <td>2017-04-06</td>\n",
       "      <td>33.778526</td>\n",
       "      <td>-118.145926</td>\n",
       "      <td>VINTAGE 1930s Mediteranian Apt. (NOT a party S...</td>\n",
       "      <td>NaN</td>\n",
       "      <td>2</td>\n",
       "      <td>100.0</td>\n",
       "      <td>90804</td>\n",
       "      <td>1.0</td>\n",
       "      <td>1.0</td>\n",
       "    </tr>\n",
       "  </tbody>\n",
       "</table>\n",
       "<p>5 rows × 27 columns</p>\n",
       "</div>"
      ],
      "text/plain": [
       "         id  log_price property_type        room_type  \\\n",
       "0   6901257   5.010635     Apartment  Entire home/apt   \n",
       "1   5578513   4.605170     Apartment     Private room   \n",
       "2  17423675   5.010635         House  Entire home/apt   \n",
       "3  14066228   4.248495     Apartment     Private room   \n",
       "4    583490   4.955827     Apartment  Entire home/apt   \n",
       "\n",
       "                                           amenities  accommodates  bathrooms  \\\n",
       "0  {\"Wireless Internet\",\"Air conditioning\",Kitche...             3        1.0   \n",
       "1  {Internet,\"Wireless Internet\",\"Air conditionin...             2        1.0   \n",
       "2  {TV,\"Cable TV\",Internet,\"Wireless Internet\",Ki...             4        1.5   \n",
       "3  {TV,Internet,\"Wireless Internet\",Kitchen,\"Free...             2        1.0   \n",
       "4  {Kitchen,Heating,\"Smoke detector\",\"Carbon mono...             2        1.0   \n",
       "\n",
       "   bed_type cancellation_policy  cleaning_fee  ... last_review   latitude  \\\n",
       "0  Real Bed              strict          True  ...  2016-07-18  40.696524   \n",
       "1  Real Bed              strict          True  ...  2016-11-15  40.723883   \n",
       "2  Real Bed              strict          True  ...  2016-11-18  33.875862   \n",
       "3  Real Bed            flexible          True  ...         NaT  33.813228   \n",
       "4  Real Bed              strict          True  ...  2017-04-06  33.778526   \n",
       "\n",
       "    longitude                                               name  \\\n",
       "0  -73.991617                     Beautiful brownstone 1-bedroom   \n",
       "1  -73.983880                 Large East Village Bedroom To Let!   \n",
       "2 -118.403293                        Sand Section Beach Bungalow   \n",
       "3 -118.389434                 Beach Pad 1 min walk to the ocean!   \n",
       "4 -118.145926  VINTAGE 1930s Mediteranian Apt. (NOT a party S...   \n",
       "\n",
       "      neighbourhood number_of_reviews review_scores_rating zipcode  bedrooms  \\\n",
       "0  Brooklyn Heights                 2                100.0   11201       1.0   \n",
       "1     Alphabet City                82                 93.0   10009       1.0   \n",
       "2     Hermosa Beach                29                 97.0   90254       2.0   \n",
       "3          Torrance                 0                  NaN   90277       1.0   \n",
       "4               NaN                 2                100.0   90804       1.0   \n",
       "\n",
       "   beds  \n",
       "0   1.0  \n",
       "1   1.0  \n",
       "2   2.0  \n",
       "3   1.0  \n",
       "4   1.0  \n",
       "\n",
       "[5 rows x 27 columns]"
      ]
     },
     "execution_count": 3,
     "metadata": {},
     "output_type": "execute_result"
    }
   ],
   "source": [
    "path = r'CaseStudy_20190517.xlsx'\n",
    "\n",
    "df = pd.read_excel(path, engine='openpyxl')\n",
    "df.head()"
   ]
  },
  {
   "cell_type": "code",
   "execution_count": 4,
   "metadata": {},
   "outputs": [
    {
     "name": "stdout",
     "output_type": "stream",
     "text": [
      "<class 'pandas.core.frame.DataFrame'>\n",
      "RangeIndex: 36795 entries, 0 to 36794\n",
      "Data columns (total 27 columns):\n",
      " #   Column                Non-Null Count  Dtype         \n",
      "---  ------                --------------  -----         \n",
      " 0   id                    36795 non-null  int64         \n",
      " 1   log_price             36795 non-null  float64       \n",
      " 2   property_type         36795 non-null  object        \n",
      " 3   room_type             36795 non-null  object        \n",
      " 4   amenities             36795 non-null  object        \n",
      " 5   accommodates          36795 non-null  int64         \n",
      " 6   bathrooms             36657 non-null  float64       \n",
      " 7   bed_type              36795 non-null  object        \n",
      " 8   cancellation_policy   36795 non-null  object        \n",
      " 9   cleaning_fee          36795 non-null  bool          \n",
      " 10  city                  36795 non-null  object        \n",
      " 11  description           36774 non-null  object        \n",
      " 12  first_review          28564 non-null  datetime64[ns]\n",
      " 13  host_has_profile_pic  36668 non-null  float64       \n",
      " 14  host_response_rate    25667 non-null  float64       \n",
      " 15  host_since            36668 non-null  datetime64[ns]\n",
      " 16  instant_bookable      36795 non-null  object        \n",
      " 17  last_review           28589 non-null  datetime64[ns]\n",
      " 18  latitude              36795 non-null  float64       \n",
      " 19  longitude             36795 non-null  float64       \n",
      " 20  name                  36794 non-null  object        \n",
      " 21  neighbourhood         33514 non-null  object        \n",
      " 22  number_of_reviews     36795 non-null  int64         \n",
      " 23  review_scores_rating  28080 non-null  float64       \n",
      " 24  zipcode               36271 non-null  object        \n",
      " 25  bedrooms              36740 non-null  float64       \n",
      " 26  beds                  36723 non-null  float64       \n",
      "dtypes: bool(1), datetime64[ns](3), float64(9), int64(3), object(11)\n",
      "memory usage: 7.3+ MB\n"
     ]
    }
   ],
   "source": [
    "df.info()"
   ]
  },
  {
   "cell_type": "code",
   "execution_count": 5,
   "metadata": {},
   "outputs": [
    {
     "data": {
      "text/html": [
       "<div>\n",
       "<style scoped>\n",
       "    .dataframe tbody tr th:only-of-type {\n",
       "        vertical-align: middle;\n",
       "    }\n",
       "\n",
       "    .dataframe tbody tr th {\n",
       "        vertical-align: top;\n",
       "    }\n",
       "\n",
       "    .dataframe thead th {\n",
       "        text-align: right;\n",
       "    }\n",
       "</style>\n",
       "<table border=\"1\" class=\"dataframe\">\n",
       "  <thead>\n",
       "    <tr style=\"text-align: right;\">\n",
       "      <th></th>\n",
       "      <th>id</th>\n",
       "      <th>log_price</th>\n",
       "      <th>accommodates</th>\n",
       "      <th>bathrooms</th>\n",
       "      <th>host_has_profile_pic</th>\n",
       "      <th>host_response_rate</th>\n",
       "      <th>latitude</th>\n",
       "      <th>longitude</th>\n",
       "      <th>number_of_reviews</th>\n",
       "      <th>review_scores_rating</th>\n",
       "      <th>bedrooms</th>\n",
       "      <th>beds</th>\n",
       "    </tr>\n",
       "  </thead>\n",
       "  <tbody>\n",
       "    <tr>\n",
       "      <th>count</th>\n",
       "      <td>3.679500e+04</td>\n",
       "      <td>36795.000000</td>\n",
       "      <td>36795.000000</td>\n",
       "      <td>36657.000000</td>\n",
       "      <td>36668.000000</td>\n",
       "      <td>25667.000000</td>\n",
       "      <td>36795.000000</td>\n",
       "      <td>36795.000000</td>\n",
       "      <td>36795.000000</td>\n",
       "      <td>28080.000000</td>\n",
       "      <td>36740.000000</td>\n",
       "      <td>36723.000000</td>\n",
       "    </tr>\n",
       "    <tr>\n",
       "      <th>mean</th>\n",
       "      <td>1.127511e+07</td>\n",
       "      <td>4.733284</td>\n",
       "      <td>2.955646</td>\n",
       "      <td>1.209837</td>\n",
       "      <td>0.997136</td>\n",
       "      <td>0.924878</td>\n",
       "      <td>38.211040</td>\n",
       "      <td>-90.712380</td>\n",
       "      <td>17.582824</td>\n",
       "      <td>94.053276</td>\n",
       "      <td>1.233451</td>\n",
       "      <td>1.624758</td>\n",
       "    </tr>\n",
       "    <tr>\n",
       "      <th>std</th>\n",
       "      <td>6.080011e+06</td>\n",
       "      <td>0.683231</td>\n",
       "      <td>2.011691</td>\n",
       "      <td>0.565951</td>\n",
       "      <td>0.053436</td>\n",
       "      <td>0.190354</td>\n",
       "      <td>3.235813</td>\n",
       "      <td>21.515337</td>\n",
       "      <td>32.214825</td>\n",
       "      <td>7.956881</td>\n",
       "      <td>0.825185</td>\n",
       "      <td>1.167209</td>\n",
       "    </tr>\n",
       "    <tr>\n",
       "      <th>min</th>\n",
       "      <td>3.440000e+02</td>\n",
       "      <td>2.302585</td>\n",
       "      <td>1.000000</td>\n",
       "      <td>0.000000</td>\n",
       "      <td>0.000000</td>\n",
       "      <td>0.000000</td>\n",
       "      <td>33.339002</td>\n",
       "      <td>-118.905839</td>\n",
       "      <td>0.000000</td>\n",
       "      <td>20.000000</td>\n",
       "      <td>0.000000</td>\n",
       "      <td>1.000000</td>\n",
       "    </tr>\n",
       "    <tr>\n",
       "      <th>25%</th>\n",
       "      <td>6.276656e+06</td>\n",
       "      <td>4.248495</td>\n",
       "      <td>2.000000</td>\n",
       "      <td>1.000000</td>\n",
       "      <td>1.000000</td>\n",
       "      <td>0.970000</td>\n",
       "      <td>34.094773</td>\n",
       "      <td>-118.310291</td>\n",
       "      <td>1.000000</td>\n",
       "      <td>92.000000</td>\n",
       "      <td>1.000000</td>\n",
       "      <td>1.000000</td>\n",
       "    </tr>\n",
       "    <tr>\n",
       "      <th>50%</th>\n",
       "      <td>1.227296e+07</td>\n",
       "      <td>4.653960</td>\n",
       "      <td>2.000000</td>\n",
       "      <td>1.000000</td>\n",
       "      <td>1.000000</td>\n",
       "      <td>1.000000</td>\n",
       "      <td>40.685334</td>\n",
       "      <td>-73.988211</td>\n",
       "      <td>5.000000</td>\n",
       "      <td>96.000000</td>\n",
       "      <td>1.000000</td>\n",
       "      <td>1.000000</td>\n",
       "    </tr>\n",
       "    <tr>\n",
       "      <th>75%</th>\n",
       "      <td>1.641334e+07</td>\n",
       "      <td>5.164786</td>\n",
       "      <td>4.000000</td>\n",
       "      <td>1.000000</td>\n",
       "      <td>1.000000</td>\n",
       "      <td>1.000000</td>\n",
       "      <td>40.736370</td>\n",
       "      <td>-73.952116</td>\n",
       "      <td>19.000000</td>\n",
       "      <td>100.000000</td>\n",
       "      <td>1.000000</td>\n",
       "      <td>2.000000</td>\n",
       "    </tr>\n",
       "    <tr>\n",
       "      <th>max</th>\n",
       "      <td>2.123090e+07</td>\n",
       "      <td>7.600402</td>\n",
       "      <td>16.000000</td>\n",
       "      <td>8.000000</td>\n",
       "      <td>1.000000</td>\n",
       "      <td>1.000000</td>\n",
       "      <td>40.909174</td>\n",
       "      <td>-73.720787</td>\n",
       "      <td>400.000000</td>\n",
       "      <td>100.000000</td>\n",
       "      <td>10.000000</td>\n",
       "      <td>16.000000</td>\n",
       "    </tr>\n",
       "  </tbody>\n",
       "</table>\n",
       "</div>"
      ],
      "text/plain": [
       "                 id     log_price  accommodates     bathrooms  \\\n",
       "count  3.679500e+04  36795.000000  36795.000000  36657.000000   \n",
       "mean   1.127511e+07      4.733284      2.955646      1.209837   \n",
       "std    6.080011e+06      0.683231      2.011691      0.565951   \n",
       "min    3.440000e+02      2.302585      1.000000      0.000000   \n",
       "25%    6.276656e+06      4.248495      2.000000      1.000000   \n",
       "50%    1.227296e+07      4.653960      2.000000      1.000000   \n",
       "75%    1.641334e+07      5.164786      4.000000      1.000000   \n",
       "max    2.123090e+07      7.600402     16.000000      8.000000   \n",
       "\n",
       "       host_has_profile_pic  host_response_rate      latitude     longitude  \\\n",
       "count          36668.000000        25667.000000  36795.000000  36795.000000   \n",
       "mean               0.997136            0.924878     38.211040    -90.712380   \n",
       "std                0.053436            0.190354      3.235813     21.515337   \n",
       "min                0.000000            0.000000     33.339002   -118.905839   \n",
       "25%                1.000000            0.970000     34.094773   -118.310291   \n",
       "50%                1.000000            1.000000     40.685334    -73.988211   \n",
       "75%                1.000000            1.000000     40.736370    -73.952116   \n",
       "max                1.000000            1.000000     40.909174    -73.720787   \n",
       "\n",
       "       number_of_reviews  review_scores_rating      bedrooms          beds  \n",
       "count       36795.000000          28080.000000  36740.000000  36723.000000  \n",
       "mean           17.582824             94.053276      1.233451      1.624758  \n",
       "std            32.214825              7.956881      0.825185      1.167209  \n",
       "min             0.000000             20.000000      0.000000      1.000000  \n",
       "25%             1.000000             92.000000      1.000000      1.000000  \n",
       "50%             5.000000             96.000000      1.000000      1.000000  \n",
       "75%            19.000000            100.000000      1.000000      2.000000  \n",
       "max           400.000000            100.000000     10.000000     16.000000  "
      ]
     },
     "execution_count": 5,
     "metadata": {},
     "output_type": "execute_result"
    }
   ],
   "source": [
    "df.describe()"
   ]
  },
  {
   "cell_type": "code",
   "execution_count": 6,
   "metadata": {},
   "outputs": [],
   "source": [
    "# drop columns\n",
    "df.drop(['id'], axis=1, inplace=True)"
   ]
  },
  {
   "cell_type": "code",
   "execution_count": 7,
   "metadata": {},
   "outputs": [
    {
     "data": {
      "text/plain": [
       "(36795, 26)"
      ]
     },
     "execution_count": 7,
     "metadata": {},
     "output_type": "execute_result"
    }
   ],
   "source": [
    "df.shape"
   ]
  },
  {
   "cell_type": "code",
   "execution_count": 8,
   "metadata": {},
   "outputs": [
    {
     "data": {
      "text/plain": [
       "log_price                   0\n",
       "property_type               0\n",
       "room_type                   0\n",
       "amenities                   0\n",
       "accommodates                0\n",
       "bathrooms                 138\n",
       "bed_type                    0\n",
       "cancellation_policy         0\n",
       "cleaning_fee                0\n",
       "city                        0\n",
       "description                21\n",
       "first_review             8231\n",
       "host_has_profile_pic      127\n",
       "host_response_rate      11128\n",
       "host_since                127\n",
       "instant_bookable            0\n",
       "last_review              8206\n",
       "latitude                    0\n",
       "longitude                   0\n",
       "name                        1\n",
       "neighbourhood            3281\n",
       "number_of_reviews           0\n",
       "review_scores_rating     8715\n",
       "zipcode                   524\n",
       "bedrooms                   55\n",
       "beds                       72\n",
       "dtype: int64"
      ]
     },
     "execution_count": 8,
     "metadata": {},
     "output_type": "execute_result"
    }
   ],
   "source": [
    "# Count missing values for every column\n",
    "df.isnull().sum()"
   ]
  },
  {
   "cell_type": "code",
   "execution_count": 9,
   "metadata": {},
   "outputs": [
    {
     "data": {
      "text/plain": [
       "<AxesSubplot:>"
      ]
     },
     "execution_count": 9,
     "metadata": {},
     "output_type": "execute_result"
    },
    {
     "data": {
      "image/png": "[encoded data removed]",
      "text/plain": [
       "<Figure size 432x288 with 1 Axes>"
      ]
     },
     "metadata": {
      "needs_background": "light"
     },
     "output_type": "display_data"
    }
   ],
   "source": [
    "sns.heatmap(df.isnull(), cbar=False)"
   ]
  },
  {
   "cell_type": "code",
   "execution_count": 10,
   "metadata": {},
   "outputs": [],
   "source": [
    "# Missing value imputation \n",
    "from sklearn.impute import KNNImputer\n",
    "X_impute = df[['bathrooms', 'bedrooms', 'beds']]\n",
    "imputer = KNNImputer(n_neighbors=3)\n",
    "df[['bathrooms', 'bedrooms', 'beds']] = imputer.fit_transform(X_impute)"
   ]
  },
  {
   "cell_type": "code",
   "execution_count": 11,
   "metadata": {},
   "outputs": [],
   "source": [
    "df['zipcode'] = df['zipcode'].replace(r'\\d+-\\d+', np.nan, regex=True)\n",
    "df['zipcode'] = df['zipcode'].replace(r'1m', np.nan, regex=True)\n",
    "df['zipcode'] = df['zipcode'].replace('', np.nan)"
   ]
  },
  {
   "cell_type": "code",
   "execution_count": 12,
   "metadata": {},
   "outputs": [],
   "source": [
    "# Missing value imputation \n",
    "from sklearn.impute import KNNImputer\n",
    "X_impute = df[['zipcode', 'latitude', 'longitude']]\n",
    "imputer = KNNImputer(n_neighbors=3)\n",
    "df[['zipcode', 'latitude', 'longitude']] = imputer.fit_transform(X_impute)"
   ]
  },
  {
   "cell_type": "code",
   "execution_count": 13,
   "metadata": {},
   "outputs": [],
   "source": [
    "# Replace NaN of 'review_scores_rating' with zero if number_of_reviews is 0 for NaN of 'review_scores_rating'\n",
    "df.loc[((df['review_scores_rating'].isnull()) & (df['number_of_reviews'] == 0)), 'review_scores_rating'] = 0\n",
    "\n",
    "# Replace with mean\n",
    "df['review_scores_rating'].fillna(df['review_scores_rating'].mean(), inplace=True)"
   ]
  },
  {
   "cell_type": "code",
   "execution_count": 14,
   "metadata": {},
   "outputs": [],
   "source": [
    "df['host_has_profile_pic'].fillna(0, inplace=True)\n",
    "df['host_response_rate'].fillna(0, inplace=True)\n",
    "# df['review_scores_rating'].fillna(0, inplace=True)"
   ]
  },
  {
   "cell_type": "code",
   "execution_count": 15,
   "metadata": {},
   "outputs": [],
   "source": [
    "# Fill neighbourhood missing value with the help of zipcode\n",
    "def get_mode_based_on_zipcode(row):\n",
    "    if(pd.isnull(row['neighbourhood'])):\n",
    "        mode_ = df[df['zipcode'] == int(row['zipcode'])]['neighbourhood'].mode()\n",
    "        if not mode_.empty:\n",
    "            return mode_[0]\n",
    "    return row['neighbourhood']\n",
    "\n",
    "df['neighbourhood'] = df[['neighbourhood', 'zipcode']].apply(get_mode_based_on_zipcode, axis=1) \n",
    "\n",
    "# Though after doing missing value imputation for neighbourhood, few records of neighbourhood don't get filled. Therefore\n",
    "# replace them with \"unknown\" string\n",
    "df['neighbourhood'].fillna('UNKNOWN', inplace=True)"
   ]
  },
  {
   "cell_type": "code",
   "execution_count": 16,
   "metadata": {},
   "outputs": [],
   "source": [
    "# missing value imputation for description\n",
    "df['description'].fillna('', inplace=True)"
   ]
  },
  {
   "cell_type": "code",
   "execution_count": 17,
   "metadata": {},
   "outputs": [],
   "source": [
    "# Feature engineering"
   ]
  },
  {
   "cell_type": "code",
   "execution_count": 18,
   "metadata": {},
   "outputs": [],
   "source": [
    "# Added new feature based on last review \n",
    "df['last_review_days_before'] = (df['last_review'].max() - df['last_review']).dt.days\n",
    "df['last_review_days_before'].fillna(-1, inplace=True)\n",
    "df['last_review_days_before'] = df['last_review_days_before'].astype('int')"
   ]
  },
  {
   "cell_type": "code",
   "execution_count": 19,
   "metadata": {},
   "outputs": [],
   "source": [
    "# added new feature how old the homes\n",
    "curr_time = pd.to_datetime(\"now\")\n",
    "curr_time\n",
    "\n",
    "df['host_since_days_before'] = (curr_time - df['host_since']).dt.days\n",
    "df['host_since_days_before'].fillna(-1, inplace=True)\n",
    "df['host_since_days_before'] = df['host_since_days_before'].astype('int')"
   ]
  },
  {
   "cell_type": "code",
   "execution_count": 20,
   "metadata": {},
   "outputs": [],
   "source": [
    "# property_type\n",
    "le = preprocessing.LabelEncoder()\n",
    "df['property_type'] = le.fit_transform(df['property_type']).tolist()\n",
    "\n",
    "le = preprocessing.LabelEncoder()\n",
    "df['cancellation_policy'] = le.fit_transform(df['cancellation_policy']).tolist()\n",
    "\n",
    "le = preprocessing.LabelEncoder()\n",
    "df['cleaning_fee'] = le.fit_transform(df['cleaning_fee']).tolist()\n",
    "\n",
    "le = preprocessing.LabelEncoder()\n",
    "df['city'] = le.fit_transform(df['city']).tolist()\n",
    "# le.classes_"
   ]
  },
  {
   "cell_type": "code",
   "execution_count": 21,
   "metadata": {},
   "outputs": [],
   "source": [
    "# one hot encoding\n",
    "\n",
    "enc = preprocessing.OneHotEncoder()\n",
    "\n",
    "# room_type\n",
    "df_room_type = pd.DataFrame(enc.fit_transform(le.fit_transform(df['room_type']).reshape(-1, 1)).toarray(), columns=enc.get_feature_names(['room_type']))\n",
    "df.drop(['room_type'], inplace=True, axis=1)\n",
    "df = pd.concat([df, df_room_type ], axis=1)"
   ]
  },
  {
   "cell_type": "code",
   "execution_count": 22,
   "metadata": {},
   "outputs": [],
   "source": [
    "# bed_type\n",
    "df_bed_type = pd.DataFrame(enc.fit_transform(le.fit_transform(df['bed_type']).reshape(-1, 1)).toarray(), columns=enc.get_feature_names(['bed_type']))\n",
    "df.drop(['bed_type'], inplace=True, axis=1)\n",
    "df = pd.concat([df, df_bed_type], axis=1)"
   ]
  },
  {
   "cell_type": "code",
   "execution_count": 23,
   "metadata": {},
   "outputs": [],
   "source": [
    "# neighbourhood\n",
    "df_neighbourhood = pd.DataFrame(enc.fit_transform(le.fit_transform(df['neighbourhood']).reshape(-1, 1)).toarray(), columns=enc.get_feature_names(['neighbourhood']))\n",
    "df.drop(['neighbourhood'], inplace=True, axis=1)\n",
    "df = pd.concat([df, df_neighbourhood], axis=1)"
   ]
  },
  {
   "cell_type": "code",
   "execution_count": 24,
   "metadata": {},
   "outputs": [],
   "source": [
    "# from sklearn.decomposition import PCA\n",
    "# pca = PCA(n_components=100)\n",
    "# df_neighbourhood = pca.fit_transform(df_neighbourhood)\n",
    "# print(pca.explained_variance_ratio_)\n",
    "# df_neighbourhood = pd.DataFrame(df_neighbourhood)\n",
    "\n",
    "# df3 = pd.concat([df2, df_neighbourhood ], axis=1)\n",
    "# df3.shape\n"
   ]
  },
  {
   "cell_type": "code",
   "execution_count": 25,
   "metadata": {},
   "outputs": [
    {
     "name": "stdout",
     "output_type": "stream",
     "text": [
      "121\n"
     ]
    }
   ],
   "source": [
    "# Amenities\n",
    "df['amenities'] = df['amenities'].replace(r'[{}\\\"]', '', regex=True)\n",
    "\n",
    "vocabulary = list(map(lambda x: x.lower().split(','), df['amenities']))\n",
    "vocabulary = list(np.unique(list(chain(*vocabulary))))\n",
    "\n",
    "vectorizer = CountVectorizer(tokenizer=lambda x: x.split(','))\n",
    "amenities = vectorizer.fit_transform(df['amenities'])\n",
    "print(len(vectorizer.get_feature_names()))\n",
    "\n",
    "df_amenities = pd.DataFrame(amenities.toarray(), columns=vectorizer.get_feature_names())\n",
    "df = pd.concat([df, df_amenities ], axis=1)\n",
    "\n",
    "df.drop(['amenities'], inplace=True, axis=1)\n",
    "\n",
    "df = pd.concat([df, df_amenities ], axis=1)"
   ]
  },
  {
   "cell_type": "code",
   "execution_count": 26,
   "metadata": {},
   "outputs": [],
   "source": [
    "# from sklearn.decomposition import PCA\n",
    "# pca = PCA(n_components=30)\n",
    "# temp = pca.fit_transform(df_amenities)\n",
    "# print(pca.explained_variance_ratio_)\n",
    "# print(df1.shape)\n",
    "\n",
    "# df1 = pd.concat([df, pd.DataFrame(temp) ], axis=1)\n",
    "# df1.shape"
   ]
  },
  {
   "cell_type": "code",
   "execution_count": 27,
   "metadata": {},
   "outputs": [],
   "source": [
    "from sklearn.feature_extraction.text import HashingVectorizer\n",
    "hash_vectorizer = HashingVectorizer(n_features=2**10)\n",
    "df_description = hash_vectorizer.fit_transform(df['description'])\n",
    "df_description = pd.DataFrame(df_description.toarray())\n"
   ]
  },
  {
   "cell_type": "code",
   "execution_count": 28,
   "metadata": {},
   "outputs": [],
   "source": [
    "from sklearn.decomposition import PCA\n",
    "pca = PCA(n_components=0.99, svd_solver='full')\n",
    "df_description = pca.fit_transform(df_description)\n",
    "# print(pca.explained_variance_ratio_.cumsum())\n",
    "df_description = pd.DataFrame(df_description)\n",
    "df.drop(['description'], inplace=True, axis=1)\n",
    "df = pd.concat([df, df_description ], axis=1)"
   ]
  },
  {
   "cell_type": "code",
   "execution_count": 29,
   "metadata": {},
   "outputs": [],
   "source": [
    "# from sklearn.model_selection import train_test_split\n",
    "# from sklearn.preprocessing import MinMaxScaler\n",
    "\n",
    "# X = df[df.columns[~df.columns.isin(['log_price', 'name','first_review', 'last_review', 'host_since', 'instant_bookable'])]]\n",
    "# y = df['log_price']\n",
    "\n",
    "# scaler = MinMaxScaler()\n",
    "# X = scaler.fit_transform(X)\n",
    "\n",
    "# X_train, X_test, y_train, y_test = train_test_split(X, y, test_size=0.20, random_state=25)\n",
    "# print(X_train.shape); print(X_test.shape)\n"
   ]
  },
  {
   "cell_type": "code",
   "execution_count": 30,
   "metadata": {},
   "outputs": [
    {
     "name": "stdout",
     "output_type": "stream",
     "text": [
      "<class 'pandas.core.frame.DataFrame'>\n",
      "RangeIndex: 36795 entries, 0 to 36794\n",
      "Columns: 1468 entries, log_price to 852\n",
      "dtypes: datetime64[ns](3), float64(1213), int64(250), object(2)\n",
      "memory usage: 412.1+ MB\n"
     ]
    }
   ],
   "source": [
    "df.info()"
   ]
  },
  {
   "cell_type": "code",
   "execution_count": 31,
   "metadata": {},
   "outputs": [],
   "source": [
    "# pd.options.display.float_format = '{:,.4f}'.format\n",
    "\n",
    "# with pd.option_context('display.max_rows', 1000):\n",
    "#     print(pd.DataFrame(df[df.columns[~df.columns.isin(['log_price', 'amenities', 'description', 'neighbourhood', 'name','first_review', 'last_review', 'host_since', 'instant_bookable'])]].corr().unstack().sort_values().drop_duplicates()))\n",
    "    "
   ]
  },
  {
   "cell_type": "code",
   "execution_count": 32,
   "metadata": {},
   "outputs": [
    {
     "name": "stdout",
     "output_type": "stream",
     "text": [
      "(29436, 1700)\n",
      "(7359, 1700)\n"
     ]
    }
   ],
   "source": [
    "from sklearn.model_selection import train_test_split\n",
    "from sklearn.preprocessing import MinMaxScaler\n",
    "\n",
    "X = df[df.columns[~df.columns.isin(['log_price', 'amenities', 'description', 'neighbourhood', 'name', 'room_type_1', 'longitude', 'latitude', 'city', 'first_review', 'last_review', 'host_since', 'instant_bookable'])]]\n",
    "y = df['log_price']\n",
    "\n",
    "# scaler = MinMaxScaler()\n",
    "# X = scaler.fit_transform(X)\n",
    "\n",
    "X_train, X_test, y_train, y_test = train_test_split(X, y, test_size=0.20, random_state=25)\n",
    "print(X_train.shape); print(X_test.shape)"
   ]
  },
  {
   "cell_type": "code",
   "execution_count": 33,
   "metadata": {},
   "outputs": [
    {
     "name": "stdout",
     "output_type": "stream",
     "text": [
      "\n",
      "Training R-Square:  0.7382066515969998\n",
      "Training RMSE:  0.34966490258967164\n",
      "\n",
      "Validation R-Square:  0.7028200562634104\n",
      "Validation RMSE:  0.3720725024086906\n"
     ]
    }
   ],
   "source": [
    "from sklearn.linear_model import Ridge\n",
    "from sklearn.metrics import mean_squared_error\n",
    "from sklearn.metrics import r2_score\n",
    "\n",
    "lr = Ridge()\n",
    "lr.fit(X_train, y_train)\n",
    "\n",
    "pred_train_lr= lr.predict(X_train)\n",
    "\n",
    "print()\n",
    "print('Training R-Square: ', r2_score(y_train, pred_train_lr))\n",
    "print('Training RMSE: ', np.sqrt(mean_squared_error(y_train,pred_train_lr)))\n",
    "\n",
    "pred_test_lr= lr.predict(X_test)\n",
    "print()\n",
    "print('Validation R-Square: ', r2_score(y_test, pred_test_lr))\n",
    "print('Validation RMSE: ', np.sqrt(mean_squared_error(y_test,pred_test_lr)))"
   ]
  }
 ],
 "metadata": {
  "kernelspec": {
   "display_name": "Python 3",
   "language": "python",
   "name": "python3"
  },
  "language_info": {
   "codemirror_mode": {
    "name": "ipython",
    "version": 3
   },
   "file_extension": ".py",
   "mimetype": "text/x-python",
   "name": "python",
   "nbconvert_exporter": "python",
   "pygments_lexer": "ipython3",
   "version": "3.7.9"
  },
  "varInspector": {
   "cols": {
    "lenName": 16,
    "lenType": 16,
    "lenVar": 40
   },
   "kernels_config": {
    "python": {
     "delete_cmd_postfix": "",
     "delete_cmd_prefix": "del ",
     "library": "var_list.py",
     "varRefreshCmd": "print(var_dic_list())"
    },
    "r": {
     "delete_cmd_postfix": ") ",
     "delete_cmd_prefix": "rm(",
     "library": "var_list.r",
     "varRefreshCmd": "cat(var_dic_list()) "
    }
   },
   "types_to_exclude": [
    "module",
    "function",
    "builtin_function_or_method",
    "instance",
    "_Feature"
   ],
   "window_display": false
  }
 },
 "nbformat": 4,
 "nbformat_minor": 4
}
