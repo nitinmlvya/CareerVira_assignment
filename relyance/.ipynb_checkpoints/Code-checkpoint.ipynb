{
 "cells": [
  {
   "cell_type": "code",
   "execution_count": 75,
   "metadata": {},
   "outputs": [],
   "source": [
    "import pandas as pd"
   ]
  },
  {
   "cell_type": "code",
   "execution_count": null,
   "metadata": {},
   "outputs": [],
   "source": [
    "# Download glove-wiki-gigaword-100 dimension pre-trained vectors.\n",
    "\n",
    "import gensim.downloader as api\n",
    "# model = api.load(\"glove-wiki-gigaword-50\")\n",
    "model = api.load(\"glove-wiki-gigaword-100\")"
   ]
  },
  {
   "cell_type": "code",
   "execution_count": 76,
   "metadata": {},
   "outputs": [
    {
     "data": {
      "text/html": [
       "<div>\n",
       "<style scoped>\n",
       "    .dataframe tbody tr th:only-of-type {\n",
       "        vertical-align: middle;\n",
       "    }\n",
       "\n",
       "    .dataframe tbody tr th {\n",
       "        vertical-align: top;\n",
       "    }\n",
       "\n",
       "    .dataframe thead th {\n",
       "        text-align: right;\n",
       "    }\n",
       "</style>\n",
       "<table border=\"1\" class=\"dataframe\">\n",
       "  <thead>\n",
       "    <tr style=\"text-align: right;\">\n",
       "      <th></th>\n",
       "      <th>doc_id</th>\n",
       "      <th>text</th>\n",
       "      <th>class</th>\n",
       "      <th>h1</th>\n",
       "      <th>h2</th>\n",
       "      <th>h3</th>\n",
       "      <th>h4</th>\n",
       "      <th>h5</th>\n",
       "    </tr>\n",
       "  </thead>\n",
       "  <tbody>\n",
       "    <tr>\n",
       "      <th>0</th>\n",
       "      <td>doc0</td>\n",
       "      <td>Last updated: 12 April 2020</td>\n",
       "      <td>LAST_UPDATED_DATE</td>\n",
       "      <td>Drupal.org Privacy Policy</td>\n",
       "      <td>NaN</td>\n",
       "      <td>NaN</td>\n",
       "      <td>NaN</td>\n",
       "      <td>NaN</td>\n",
       "    </tr>\n",
       "    <tr>\n",
       "      <th>1</th>\n",
       "      <td>doc0</td>\n",
       "      <td>We value your privacy and strive to protect yo...</td>\n",
       "      <td>UNKNOWN</td>\n",
       "      <td>Drupal.org Privacy Policy</td>\n",
       "      <td>NaN</td>\n",
       "      <td>NaN</td>\n",
       "      <td>NaN</td>\n",
       "      <td>NaN</td>\n",
       "    </tr>\n",
       "    <tr>\n",
       "      <th>2</th>\n",
       "      <td>doc0</td>\n",
       "      <td>(2) [p] Disclaimer: This summary is not itself...</td>\n",
       "      <td>UNKNOWN</td>\n",
       "      <td>Drupal.org Privacy Policy</td>\n",
       "      <td>NaN</td>\n",
       "      <td>Human Readable Summary</td>\n",
       "      <td>NaN</td>\n",
       "      <td>NaN</td>\n",
       "    </tr>\n",
       "    <tr>\n",
       "      <th>3</th>\n",
       "      <td>doc0</td>\n",
       "      <td>Right to be Informed - A data subject has the ...</td>\n",
       "      <td>PERSONAL_DATA_RIGHTS</td>\n",
       "      <td>Drupal.org Privacy Policy</td>\n",
       "      <td>NaN</td>\n",
       "      <td>Human Readable Summary</td>\n",
       "      <td>Rights of the Data Subject</td>\n",
       "      <td>NaN</td>\n",
       "    </tr>\n",
       "    <tr>\n",
       "      <th>4</th>\n",
       "      <td>doc0</td>\n",
       "      <td>Right to Restrict Processing - A data subject ...</td>\n",
       "      <td>PERSONAL_DATA_RIGHTS</td>\n",
       "      <td>Drupal.org Privacy Policy</td>\n",
       "      <td>NaN</td>\n",
       "      <td>Human Readable Summary</td>\n",
       "      <td>Rights of the Data Subject</td>\n",
       "      <td>NaN</td>\n",
       "    </tr>\n",
       "  </tbody>\n",
       "</table>\n",
       "</div>"
      ],
      "text/plain": [
       "  doc_id                                               text  \\\n",
       "0   doc0                        Last updated: 12 April 2020   \n",
       "1   doc0  We value your privacy and strive to protect yo...   \n",
       "2   doc0  (2) [p] Disclaimer: This summary is not itself...   \n",
       "3   doc0  Right to be Informed - A data subject has the ...   \n",
       "4   doc0  Right to Restrict Processing - A data subject ...   \n",
       "\n",
       "                  class                         h1   h2  \\\n",
       "0     LAST_UPDATED_DATE  Drupal.org Privacy Policy  NaN   \n",
       "1               UNKNOWN  Drupal.org Privacy Policy  NaN   \n",
       "2               UNKNOWN  Drupal.org Privacy Policy  NaN   \n",
       "3  PERSONAL_DATA_RIGHTS  Drupal.org Privacy Policy  NaN   \n",
       "4  PERSONAL_DATA_RIGHTS  Drupal.org Privacy Policy  NaN   \n",
       "\n",
       "                       h3                          h4   h5  \n",
       "0                     NaN                         NaN  NaN  \n",
       "1                     NaN                         NaN  NaN  \n",
       "2  Human Readable Summary                         NaN  NaN  \n",
       "3  Human Readable Summary  Rights of the Data Subject  NaN  \n",
       "4  Human Readable Summary  Rights of the Data Subject  NaN  "
      ]
     },
     "execution_count": 76,
     "metadata": {},
     "output_type": "execute_result"
    }
   ],
   "source": [
    "# Load the CSV data\n",
    "df = pd.read_csv('data/data.csv')\n",
    "df.head()"
   ]
  },
  {
   "cell_type": "code",
   "execution_count": 77,
   "metadata": {},
   "outputs": [
    {
     "data": {
      "text/plain": [
       "(2348, 8)"
      ]
     },
     "execution_count": 77,
     "metadata": {},
     "output_type": "execute_result"
    }
   ],
   "source": [
    "df.shape"
   ]
  },
  {
   "cell_type": "code",
   "execution_count": 78,
   "metadata": {},
   "outputs": [
    {
     "data": {
      "text/plain": [
       "doc_id       0\n",
       "text         0\n",
       "class        0\n",
       "h1         574\n",
       "h2        1360\n",
       "h3        1337\n",
       "h4        2043\n",
       "h5        2252\n",
       "dtype: int64"
      ]
     },
     "execution_count": 78,
     "metadata": {},
     "output_type": "execute_result"
    }
   ],
   "source": [
    "# Count the number of missing values.\n",
    "df.isnull().sum()"
   ]
  },
  {
   "cell_type": "code",
   "execution_count": 79,
   "metadata": {},
   "outputs": [
    {
     "data": {
      "text/plain": [
       "UNKNOWN                            428\n",
       "PERSONAL_DATA_USES                 271\n",
       "THIRDPARTY_INFORMATION_SHARING     246\n",
       "PERSONAL_DATA_WE_COLLECT           245\n",
       "PERSONAL_DATA_RIGHTS               201\n",
       "COOKIES_AND_TRACKING_TECHNOLOGY    192\n",
       "JURISDICTION                       176\n",
       "HOW_WE_COLLECT_PERSONAL_DATA       133\n",
       "CONTACT                            124\n",
       "SECURITY                           101\n",
       "UPDATES_AND_NOTIFICATIONS           66\n",
       "LAST_UPDATED_DATE                   50\n",
       "CHILDREN                            50\n",
       "MARKETING_OPT_OUT                   37\n",
       "DO_NOT_TRACK                        28\n",
       "Name: class, dtype: int64"
      ]
     },
     "execution_count": 79,
     "metadata": {},
     "output_type": "execute_result"
    }
   ],
   "source": [
    "# Class-wise counts\n",
    "df['class'].value_counts()"
   ]
  },
  {
   "cell_type": "code",
   "execution_count": 87,
   "metadata": {},
   "outputs": [],
   "source": [
    "# Lower all the text\n",
    "df['text'] = df['text'].str.lower()\n",
    "df['h1'] = df['h1'].str.lower()\n",
    "df['h2'] = df['h2'].str.lower()\n",
    "df['h3'] = df['h3'].str.lower()\n",
    "df['h4'] = df['h4'].str.lower()\n",
    "df['h5'] = df['h5'].str.lower()"
   ]
  },
  {
   "cell_type": "code",
   "execution_count": 88,
   "metadata": {},
   "outputs": [],
   "source": [
    "df['text'] = df['text'].str.replace(r\"(\\(\\d+\\))\", '') # Remove information such as (10), (30)\n",
    "df['text'] = df['text'].str.replace(r\"(\\[[a-zA-Z]+\\])\", '') # Remove information such as (p), (ul), etc.\n",
    "df['text'] = df['text'].str.replace(r\"|\", ' ') # Remove | char"
   ]
  },
  {
   "cell_type": "code",
   "execution_count": 89,
   "metadata": {},
   "outputs": [
    {
     "data": {
      "text/html": [
       "<div>\n",
       "<style scoped>\n",
       "    .dataframe tbody tr th:only-of-type {\n",
       "        vertical-align: middle;\n",
       "    }\n",
       "\n",
       "    .dataframe tbody tr th {\n",
       "        vertical-align: top;\n",
       "    }\n",
       "\n",
       "    .dataframe thead th {\n",
       "        text-align: right;\n",
       "    }\n",
       "</style>\n",
       "<table border=\"1\" class=\"dataframe\">\n",
       "  <thead>\n",
       "    <tr style=\"text-align: right;\">\n",
       "      <th></th>\n",
       "      <th>doc_id</th>\n",
       "      <th>text</th>\n",
       "      <th>class</th>\n",
       "      <th>h1</th>\n",
       "      <th>h2</th>\n",
       "      <th>h3</th>\n",
       "      <th>h4</th>\n",
       "      <th>h5</th>\n",
       "      <th>text_clean</th>\n",
       "    </tr>\n",
       "  </thead>\n",
       "  <tbody>\n",
       "    <tr>\n",
       "      <th>0</th>\n",
       "      <td>doc0</td>\n",
       "      <td>last updated: 12 april 2020</td>\n",
       "      <td>LAST_UPDATED_DATE</td>\n",
       "      <td>drupal.org privacy policy</td>\n",
       "      <td>NaN</td>\n",
       "      <td>NaN</td>\n",
       "      <td>NaN</td>\n",
       "      <td>NaN</td>\n",
       "      <td>last updated 12 april 2020</td>\n",
       "    </tr>\n",
       "    <tr>\n",
       "      <th>1</th>\n",
       "      <td>doc0</td>\n",
       "      <td>we value your privacy and strive to protect yo...</td>\n",
       "      <td>UNKNOWN</td>\n",
       "      <td>drupal.org privacy policy</td>\n",
       "      <td>NaN</td>\n",
       "      <td>NaN</td>\n",
       "      <td>NaN</td>\n",
       "      <td>NaN</td>\n",
       "      <td>value privacy strive protect personal informat...</td>\n",
       "    </tr>\n",
       "  </tbody>\n",
       "</table>\n",
       "</div>"
      ],
      "text/plain": [
       "  doc_id                                               text  \\\n",
       "0   doc0                        last updated: 12 april 2020   \n",
       "1   doc0  we value your privacy and strive to protect yo...   \n",
       "\n",
       "               class                         h1   h2   h3   h4   h5  \\\n",
       "0  LAST_UPDATED_DATE  drupal.org privacy policy  NaN  NaN  NaN  NaN   \n",
       "1            UNKNOWN  drupal.org privacy policy  NaN  NaN  NaN  NaN   \n",
       "\n",
       "                                          text_clean  \n",
       "0                         last updated 12 april 2020  \n",
       "1  value privacy strive protect personal informat...  "
      ]
     },
     "execution_count": 89,
     "metadata": {},
     "output_type": "execute_result"
    }
   ],
   "source": [
    "df.head(2)"
   ]
  },
  {
   "cell_type": "code",
   "execution_count": 90,
   "metadata": {},
   "outputs": [],
   "source": [
    "# Remove stop words for the text column and apply lemmatization\n",
    "\n",
    "def utils_preprocess_text(text, flg_stemm=False, flg_lemm=True, lst_stopwords=None):\n",
    "    text = re.sub(r'[^\\w\\s]', '', str(text).lower().strip())\n",
    "            \n",
    "    lst_text = text.split()\n",
    "    if lst_stopwords is not None:\n",
    "        lst_text = [word for word in lst_text if word not in \n",
    "                    lst_stopwords]\n",
    "                \n",
    "    if flg_stemm == True:\n",
    "        ps = nltk.stem.porter.PorterStemmer()\n",
    "        lst_text = [ps.stem(word) for word in lst_text]\n",
    "                \n",
    "    if flg_lemm == True:\n",
    "        lem = nltk.stem.wordnet.WordNetLemmatizer()\n",
    "        lst_text = [lem.lemmatize(word) for word in lst_text]\n",
    "            \n",
    "    ## back to string from list\n",
    "    text = \" \".join(lst_text)\n",
    "    return text"
   ]
  },
  {
   "cell_type": "code",
   "execution_count": 91,
   "metadata": {},
   "outputs": [
    {
     "data": {
      "text/html": [
       "<div>\n",
       "<style scoped>\n",
       "    .dataframe tbody tr th:only-of-type {\n",
       "        vertical-align: middle;\n",
       "    }\n",
       "\n",
       "    .dataframe tbody tr th {\n",
       "        vertical-align: top;\n",
       "    }\n",
       "\n",
       "    .dataframe thead th {\n",
       "        text-align: right;\n",
       "    }\n",
       "</style>\n",
       "<table border=\"1\" class=\"dataframe\">\n",
       "  <thead>\n",
       "    <tr style=\"text-align: right;\">\n",
       "      <th></th>\n",
       "      <th>doc_id</th>\n",
       "      <th>text</th>\n",
       "      <th>class</th>\n",
       "      <th>h1</th>\n",
       "      <th>h2</th>\n",
       "      <th>h3</th>\n",
       "      <th>h4</th>\n",
       "      <th>h5</th>\n",
       "      <th>text_clean</th>\n",
       "    </tr>\n",
       "  </thead>\n",
       "  <tbody>\n",
       "    <tr>\n",
       "      <th>0</th>\n",
       "      <td>doc0</td>\n",
       "      <td>last updated: 12 april 2020</td>\n",
       "      <td>LAST_UPDATED_DATE</td>\n",
       "      <td>drupal.org privacy policy</td>\n",
       "      <td>NaN</td>\n",
       "      <td>NaN</td>\n",
       "      <td>NaN</td>\n",
       "      <td>NaN</td>\n",
       "      <td>last updated 12 april 2020</td>\n",
       "    </tr>\n",
       "    <tr>\n",
       "      <th>1</th>\n",
       "      <td>doc0</td>\n",
       "      <td>we value your privacy and strive to protect yo...</td>\n",
       "      <td>UNKNOWN</td>\n",
       "      <td>drupal.org privacy policy</td>\n",
       "      <td>NaN</td>\n",
       "      <td>NaN</td>\n",
       "      <td>NaN</td>\n",
       "      <td>NaN</td>\n",
       "      <td>value privacy strive protect personal informat...</td>\n",
       "    </tr>\n",
       "    <tr>\n",
       "      <th>2</th>\n",
       "      <td>doc0</td>\n",
       "      <td>disclaimer: this summary is not itself a par...</td>\n",
       "      <td>UNKNOWN</td>\n",
       "      <td>drupal.org privacy policy</td>\n",
       "      <td>NaN</td>\n",
       "      <td>human readable summary</td>\n",
       "      <td>NaN</td>\n",
       "      <td>NaN</td>\n",
       "      <td>disclaimer summary part privacy policy legal d...</td>\n",
       "    </tr>\n",
       "    <tr>\n",
       "      <th>3</th>\n",
       "      <td>doc0</td>\n",
       "      <td>right to be informed - a data subject has the ...</td>\n",
       "      <td>PERSONAL_DATA_RIGHTS</td>\n",
       "      <td>drupal.org privacy policy</td>\n",
       "      <td>NaN</td>\n",
       "      <td>human readable summary</td>\n",
       "      <td>rights of the data subject</td>\n",
       "      <td>NaN</td>\n",
       "      <td>right informed data subject right know whether...</td>\n",
       "    </tr>\n",
       "    <tr>\n",
       "      <th>4</th>\n",
       "      <td>doc0</td>\n",
       "      <td>right to restrict processing - a data subject ...</td>\n",
       "      <td>PERSONAL_DATA_RIGHTS</td>\n",
       "      <td>drupal.org privacy policy</td>\n",
       "      <td>NaN</td>\n",
       "      <td>human readable summary</td>\n",
       "      <td>rights of the data subject</td>\n",
       "      <td>NaN</td>\n",
       "      <td>right restrict processing data subject right r...</td>\n",
       "    </tr>\n",
       "  </tbody>\n",
       "</table>\n",
       "</div>"
      ],
      "text/plain": [
       "  doc_id                                               text  \\\n",
       "0   doc0                        last updated: 12 april 2020   \n",
       "1   doc0  we value your privacy and strive to protect yo...   \n",
       "2   doc0    disclaimer: this summary is not itself a par...   \n",
       "3   doc0  right to be informed - a data subject has the ...   \n",
       "4   doc0  right to restrict processing - a data subject ...   \n",
       "\n",
       "                  class                         h1   h2  \\\n",
       "0     LAST_UPDATED_DATE  drupal.org privacy policy  NaN   \n",
       "1               UNKNOWN  drupal.org privacy policy  NaN   \n",
       "2               UNKNOWN  drupal.org privacy policy  NaN   \n",
       "3  PERSONAL_DATA_RIGHTS  drupal.org privacy policy  NaN   \n",
       "4  PERSONAL_DATA_RIGHTS  drupal.org privacy policy  NaN   \n",
       "\n",
       "                       h3                          h4   h5  \\\n",
       "0                     NaN                         NaN  NaN   \n",
       "1                     NaN                         NaN  NaN   \n",
       "2  human readable summary                         NaN  NaN   \n",
       "3  human readable summary  rights of the data subject  NaN   \n",
       "4  human readable summary  rights of the data subject  NaN   \n",
       "\n",
       "                                          text_clean  \n",
       "0                         last updated 12 april 2020  \n",
       "1  value privacy strive protect personal informat...  \n",
       "2  disclaimer summary part privacy policy legal d...  \n",
       "3  right informed data subject right know whether...  \n",
       "4  right restrict processing data subject right r...  "
      ]
     },
     "execution_count": 91,
     "metadata": {},
     "output_type": "execute_result"
    }
   ],
   "source": [
    "# Import stopwords list and apply over the text column\n",
    "\n",
    "import re, nltk\n",
    "from nltk.corpus import stopwords\n",
    "\n",
    "lst_stopwords = stopwords.words('english')\n",
    "\n",
    "df[\"text_clean\"] = df[\"text\"].apply(lambda x: \n",
    "          utils_preprocess_text(x, flg_stemm=False, flg_lemm=True, \n",
    "          lst_stopwords=lst_stopwords))\n",
    "df.head()"
   ]
  },
  {
   "cell_type": "code",
   "execution_count": 223,
   "metadata": {},
   "outputs": [],
   "source": [
    "# Get vectors of each token in the document and average out all the vectors for every document.\n",
    "\n",
    "dimension = 100\n",
    "text_vectors = []\n",
    "for t in df['text_clean']:\n",
    "    text_split = t.split()\n",
    "    vectors = np.array([model[x] for x in text_split if x in model])\n",
    "    vec = np.mean(vectors, axis=0)\n",
    "    if np.isnan(vec).any():\n",
    "        text_vectors.append(list(np.zeros(dimension)))\n",
    "    else:\n",
    "        text_vectors.append(list(vec))"
   ]
  },
  {
   "cell_type": "code",
   "execution_count": 224,
   "metadata": {},
   "outputs": [],
   "source": [
    "# convert it to csr matrix\n",
    "\n",
    "import numpy as np\n",
    "from scipy import sparse\n",
    "\n",
    "text_vectors = sparse.csr_matrix(np.array(text_vectors))"
   ]
  },
  {
   "cell_type": "code",
   "execution_count": 225,
   "metadata": {},
   "outputs": [
    {
     "data": {
      "text/plain": [
       "(49643, (2348, 49643))"
      ]
     },
     "execution_count": 225,
     "metadata": {},
     "output_type": "execute_result"
    }
   ],
   "source": [
    "# Apply TFIDF over cleaned text\n",
    "\n",
    "from sklearn.feature_extraction.text import TfidfVectorizer\n",
    "\n",
    "vectorizer = TfidfVectorizer(ngram_range=(1, 2))\n",
    "text_vector = vectorizer.fit_transform(df['text_clean'])\n",
    "len(vectorizer.get_feature_names()), text_vector.shape"
   ]
  },
  {
   "cell_type": "code",
   "execution_count": 226,
   "metadata": {},
   "outputs": [],
   "source": [
    "# Apply dimension reduction on cleaned text\n",
    "y = df['class']\n",
    "\n",
    "from sklearn.decomposition import PCA\n",
    "\n",
    "pca = PCA(n_components=0.99)\n",
    "text_vector = pca.fit_transform(text_vector.toarray(), y)\n",
    "text_vector.shape"
   ]
  },
  {
   "cell_type": "code",
   "execution_count": 228,
   "metadata": {},
   "outputs": [],
   "source": [
    "# Merge all heading columns into single column(to avoid NULL values.)\n",
    "heading = df[['h1', 'h2', 'h3', 'h4', 'h5']].apply(\n",
    "    lambda x: ' '.join(x.dropna().astype(str)),\n",
    "    axis=1\n",
    ")"
   ]
  },
  {
   "cell_type": "code",
   "execution_count": 229,
   "metadata": {
    "scrolled": true
   },
   "outputs": [
    {
     "data": {
      "text/plain": [
       "(4220, (2348, 4220))"
      ]
     },
     "execution_count": 229,
     "metadata": {},
     "output_type": "execute_result"
    }
   ],
   "source": [
    "# Apply TFIDF over merged heading column\n",
    "\n",
    "from sklearn.feature_extraction.text import TfidfVectorizer\n",
    "\n",
    "vectorizer = TfidfVectorizer(ngram_range=(1, 3))\n",
    "heading_vector = vectorizer.fit_transform(heading)\n",
    "len(vectorizer.get_feature_names()), heading_vector.shape"
   ]
  },
  {
   "cell_type": "code",
   "execution_count": 230,
   "metadata": {},
   "outputs": [],
   "source": [
    "from scipy.sparse import hstack\n",
    "\n",
    "X = hstack((text_vector, heading_vector, text_vectors)) #.toarray()\n",
    "y = df['class']"
   ]
  },
  {
   "cell_type": "code",
   "execution_count": 233,
   "metadata": {},
   "outputs": [],
   "source": [
    "# Train and test split (80 - 20 ratio)\n",
    "\n",
    "from sklearn.model_selection import train_test_split\n",
    "\n",
    "X_train, X_test, y_train, y_test = train_test_split(X, y, test_size=0.2, random_state=42, stratify=y)"
   ]
  },
  {
   "cell_type": "code",
   "execution_count": 281,
   "metadata": {},
   "outputs": [
    {
     "name": "stdout",
     "output_type": "stream",
     "text": [
      "\n",
      "Training Accuracy: \n",
      "89.24387646432375\n",
      "\n",
      "Test Accuracy: \n",
      "71.91489361702128\n"
     ]
    }
   ],
   "source": [
    "# model training\n",
    "from sklearn.svm import LinearSVC\n",
    "from sklearn.model_selection import GridSearchCV\n",
    "\n",
    "clf = LinearSVC(C=1.25, penalty='l1', loss='squared_hinge', tol=0.1, dual=False, class_weight='balanced', random_state=42)\n",
    "clf.fit(X_train, y_train)\n",
    "\n",
    "print('\\nTraining Accuracy: ')\n",
    "train_acc = clf.score(X_train, y_train) * 100\n",
    "print(train_acc)\n",
    "\n",
    "print('\\nTest Accuracy: ')\n",
    "test_acc = clf.score(X_test, y_test) * 100\n",
    "print(test_acc)"
   ]
  },
  {
   "cell_type": "code",
   "execution_count": 282,
   "metadata": {},
   "outputs": [
    {
     "name": "stdout",
     "output_type": "stream",
     "text": [
      "                                 precision    recall  f1-score   support\n",
      "\n",
      "                       CHILDREN       0.91      1.00      0.95        10\n",
      "                        CONTACT       0.82      0.92      0.87        25\n",
      "COOKIES_AND_TRACKING_TECHNOLOGY       0.72      0.79      0.76        39\n",
      "                   DO_NOT_TRACK       0.43      0.50      0.46         6\n",
      "   HOW_WE_COLLECT_PERSONAL_DATA       0.19      0.19      0.19        27\n",
      "                   JURISDICTION       0.78      0.83      0.81        35\n",
      "              LAST_UPDATED_DATE       1.00      1.00      1.00        10\n",
      "              MARKETING_OPT_OUT       0.44      1.00      0.61         7\n",
      "           PERSONAL_DATA_RIGHTS       0.78      0.72      0.75        40\n",
      "             PERSONAL_DATA_USES       0.76      0.69      0.72        54\n",
      "       PERSONAL_DATA_WE_COLLECT       0.50      0.49      0.49        49\n",
      "                       SECURITY       0.94      0.85      0.89        20\n",
      " THIRDPARTY_INFORMATION_SHARING       0.73      0.90      0.81        49\n",
      "                        UNKNOWN       0.86      0.66      0.75        86\n",
      "      UPDATES_AND_NOTIFICATIONS       0.92      0.92      0.92        13\n",
      "\n",
      "                       accuracy                           0.72       470\n",
      "                      macro avg       0.72      0.76      0.73       470\n",
      "                   weighted avg       0.73      0.72      0.72       470\n",
      "\n"
     ]
    }
   ],
   "source": [
    "# Model evaluation on validation data set.\n",
    "\n",
    "from sklearn.metrics import classification_report\n",
    "\n",
    "y_pred = clf.predict(X_test)\n",
    "\n",
    "print(classification_report(y_test, y_pred))"
   ]
  }
 ],
 "metadata": {
  "kernelspec": {
   "display_name": "Python 3",
   "language": "python",
   "name": "python3"
  },
  "language_info": {
   "codemirror_mode": {
    "name": "ipython",
    "version": 3
   },
   "file_extension": ".py",
   "mimetype": "text/x-python",
   "name": "python",
   "nbconvert_exporter": "python",
   "pygments_lexer": "ipython3",
   "version": "3.7.9"
  },
  "varInspector": {
   "cols": {
    "lenName": 16,
    "lenType": 16,
    "lenVar": 40
   },
   "kernels_config": {
    "python": {
     "delete_cmd_postfix": "",
     "delete_cmd_prefix": "del ",
     "library": "var_list.py",
     "varRefreshCmd": "print(var_dic_list())"
    },
    "r": {
     "delete_cmd_postfix": ") ",
     "delete_cmd_prefix": "rm(",
     "library": "var_list.r",
     "varRefreshCmd": "cat(var_dic_list()) "
    }
   },
   "types_to_exclude": [
    "module",
    "function",
    "builtin_function_or_method",
    "instance",
    "_Feature"
   ],
   "window_display": false
  }
 },
 "nbformat": 4,
 "nbformat_minor": 4
}
